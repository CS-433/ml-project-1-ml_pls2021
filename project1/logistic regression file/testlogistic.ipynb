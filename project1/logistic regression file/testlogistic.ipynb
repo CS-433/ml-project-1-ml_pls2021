{
 "cells": [
  {
   "cell_type": "code",
   "execution_count": 1,
   "id": "07c272f2",
   "metadata": {},
   "outputs": [],
   "source": [
    "# Useful starting lines\n",
    "%matplotlib inline\n",
    "import numpy as np\n",
    "import matplotlib.pyplot as plt\n",
    "%load_ext autoreload\n",
    "%autoreload 2"
   ]
  },
  {
   "cell_type": "code",
   "execution_count": 2,
   "id": "7f237ab1",
   "metadata": {},
   "outputs": [],
   "source": [
    "from proj1_helpers import *\n",
    "DATA_TRAIN_PATH = 'train.csv' # TODO: download train data and supply path here \n",
    "y, tX, ids = load_csv_data(DATA_TRAIN_PATH)"
   ]
  },
  {
   "cell_type": "code",
   "execution_count": 3,
   "id": "44950353",
   "metadata": {},
   "outputs": [],
   "source": [
    "#replace values -999.0 by the mean of each columns\n",
    "(a,b)=np.shape(tX)\n",
    "for i in range(b):\n",
    "    ind=np.where(tX[:,i]==-999)\n",
    "    tX_del=np.delete(tX[:,i],ind)\n",
    "    mean=np.mean(tX_del)\n",
    "    tX[ind,i]=mean"
   ]
  },
  {
   "cell_type": "code",
   "execution_count": null,
   "id": "060db115",
   "metadata": {},
   "outputs": [],
   "source": [
    "        "
   ]
  },
  {
   "cell_type": "code",
   "execution_count": 4,
   "id": "62c96561",
   "metadata": {},
   "outputs": [],
   "source": [
    "from standardize import standardize\n",
    "tX=standardize(tX)"
   ]
  },
  {
   "cell_type": "code",
   "execution_count": 5,
   "id": "c9b014d4",
   "metadata": {},
   "outputs": [
    {
     "name": "stdout",
     "output_type": "stream",
     "text": [
      "<class 'list'>\n",
      "(495, 250000)\n",
      "(250000, 495)\n"
     ]
    }
   ],
   "source": [
    "X_features = [] #degree 2\n",
    "print(type(X_features)) \n",
    "for i in range(tX.shape[1]):\n",
    "    X_features.append(tX[:,i])\n",
    "    for j in range(i+1):\n",
    "        X_features.append(np.multiply(tX[:,i],tX[:,j]))\n",
    "             \n",
    "X_features = np.array(X_features)\n",
    "type(X_features)\n",
    "print(X_features.shape)\n",
    "X_features = X_features.T\n",
    "print(X_features.shape)\n",
    "\n",
    "tX = X_features"
   ]
  },
  {
   "cell_type": "code",
   "execution_count": 6,
   "id": "50ccf825",
   "metadata": {},
   "outputs": [],
   "source": [
    "tX=np.c_[np.ones(len(y)),tX]"
   ]
  },
  {
   "cell_type": "code",
   "execution_count": 28,
   "id": "92c1e2d7",
   "metadata": {
    "scrolled": false
   },
   "outputs": [
    {
     "name": "stdout",
     "output_type": "stream",
     "text": [
      "343335.3553956051\n",
      "219452.83255829822\n",
      "Current iteration=0, loss=219452.83255829822\n",
      "221166.55760645558\n",
      "218788.2129542216\n",
      "178116.22167123412\n",
      "214786.36222136777\n",
      "152560.39340037183\n",
      "216332.7255069502\n",
      "132529.29548905493\n",
      "214543.23694587138\n",
      "118407.58703977565\n",
      "215121.1846092314\n",
      "108270.71883910055\n",
      "214352.31574039452\n",
      "100514.14048291818\n",
      "214324.1087984913\n",
      "94226.0447691095\n",
      "213912.23378481664\n",
      "88966.83507338395\n",
      "213689.55534849095\n",
      "84479.7965226542\n",
      "213370.23962975777\n",
      "80599.88773600379\n",
      "213094.16769928148\n",
      "77208.48200196605\n",
      "212795.98747629582\n",
      "74216.43045923229\n",
      "212507.13876117393\n",
      "71554.64759611474\n",
      "212214.6055959055\n",
      "69168.66533442395\n",
      "211925.1851693455\n",
      "67014.82310503734\n",
      "211636.9062530646\n",
      "65057.69345799066\n",
      "211351.41602627374\n",
      "63268.34060206641\n",
      "211068.7587094994\n",
      "61623.20757101924\n",
      "210789.54281738074\n",
      "60103.25277356097\n",
      "210514.045682514\n",
      "58693.03033654911\n",
      "210242.54942192964\n",
      "57379.810197587256\n",
      "209975.2049545934\n",
      "56152.9963215483\n",
      "209712.09366468195\n",
      "55003.695212098966\n",
      "209453.20523440596\n",
      "53924.20596959741\n",
      "209198.4587689599\n",
      "52907.5892975579\n",
      "208947.74608678708\n",
      "51947.5043980964\n",
      "208700.98019582755\n",
      "51038.22512139739\n",
      "208458.11188515343\n",
      "50174.67211498658\n",
      "208219.12239714293\n",
      "49352.396484920406\n",
      "207984.0092220806\n",
      "48567.523655714824\n",
      "207752.77471366184\n",
      "47816.6810752884\n",
      "207525.4191792826\n",
      "47096.92589958852\n",
      "207301.93745097588\n",
      "46405.68001743221\n",
      "207082.3175813677\n",
      "45740.67451281404\n",
      "206866.54069446347\n",
      "45099.903254588105\n",
      "206654.58139840772\n",
      "44481.58446644711\n",
      "206446.40843316595\n",
      "43884.12900234178\n",
      "206241.98538043533\n",
      "43306.11418489167\n",
      "206041.27134846803\n",
      "42746.26225318112\n",
      "205844.22158961772\n",
      "42203.42263034035\n",
      "205650.78803333623\n",
      "41676.55733538861\n",
      "205460.91973296332\n",
      "41164.728929145655\n",
      "205274.5632366125\n",
      "40667.0904165194\n",
      "205091.66290254996\n",
      "40182.87655241864\n",
      "204912.16118678762\n",
      "39711.39604420942\n",
      "204735.9989324759\n",
      "39252.02423183182\n",
      "204563.1156841261\n",
      "38804.1959626789\n",
      "204393.45003372614\n",
      "38367.39854601098\n",
      "204226.9399836002\n",
      "37941.16483801616\n",
      "204063.5232902041\n",
      "37525.066636108146\n",
      "203903.1377438776\n",
      "37118.708621599915\n",
      "203745.72134850879\n",
      "36721.72307444911\n",
      "203591.212390528\n",
      "36333.76550473563\n",
      "203439.54941823793\n"
     ]
    },
    {
     "ename": "KeyboardInterrupt",
     "evalue": "",
     "output_type": "error",
     "traceback": [
      "\u001b[1;31m---------------------------------------------------------------------------\u001b[0m",
      "\u001b[1;31mKeyboardInterrupt\u001b[0m                         Traceback (most recent call last)",
      "\u001b[1;32m<ipython-input-28-f49c6380eb6d>\u001b[0m in \u001b[0;36m<module>\u001b[1;34m\u001b[0m\n\u001b[0;32m      4\u001b[0m \u001b[0mthreshold\u001b[0m \u001b[1;33m=\u001b[0m \u001b[1;36m1e-8\u001b[0m\u001b[1;33m\u001b[0m\u001b[1;33m\u001b[0m\u001b[0m\n\u001b[0;32m      5\u001b[0m \u001b[0minitial_w\u001b[0m\u001b[1;33m=\u001b[0m\u001b[1;33m-\u001b[0m\u001b[0mnp\u001b[0m\u001b[1;33m.\u001b[0m\u001b[0mzeros\u001b[0m\u001b[1;33m(\u001b[0m\u001b[1;33m(\u001b[0m\u001b[1;36m496\u001b[0m\u001b[1;33m,\u001b[0m\u001b[1;33m)\u001b[0m\u001b[1;33m)\u001b[0m\u001b[1;33m\u001b[0m\u001b[1;33m\u001b[0m\u001b[0m\n\u001b[1;32m----> 6\u001b[1;33m \u001b[0mw\u001b[0m\u001b[1;33m,\u001b[0m\u001b[0mloss\u001b[0m\u001b[1;33m=\u001b[0m\u001b[0mlogistic_regression_gradient_descent\u001b[0m\u001b[1;33m(\u001b[0m\u001b[0my\u001b[0m\u001b[1;33m,\u001b[0m \u001b[0mtX\u001b[0m\u001b[1;33m,\u001b[0m\u001b[0mgamma\u001b[0m\u001b[1;33m,\u001b[0m\u001b[0mmax_iter\u001b[0m\u001b[1;33m,\u001b[0m\u001b[0mthreshold\u001b[0m\u001b[1;33m,\u001b[0m\u001b[0minitial_w\u001b[0m\u001b[1;33m)\u001b[0m\u001b[1;33m\u001b[0m\u001b[1;33m\u001b[0m\u001b[0m\n\u001b[0m",
      "\u001b[1;32m~\\Documents\\GitHub\\ml-project-1-ml_pls2021\\project1\\scripts\\logistic.py\u001b[0m in \u001b[0;36mlogistic_regression_gradient_descent\u001b[1;34m(y, tx, gamma, max_iter, threshold, w)\u001b[0m\n\u001b[0;32m     81\u001b[0m     \u001b[1;32mfor\u001b[0m \u001b[0miter\u001b[0m \u001b[1;32min\u001b[0m \u001b[0mrange\u001b[0m\u001b[1;33m(\u001b[0m\u001b[0mmax_iter\u001b[0m\u001b[1;33m)\u001b[0m\u001b[1;33m:\u001b[0m\u001b[1;33m\u001b[0m\u001b[1;33m\u001b[0m\u001b[0m\n\u001b[0;32m     82\u001b[0m         \u001b[1;31m# get loss and update w.\u001b[0m\u001b[1;33m\u001b[0m\u001b[1;33m\u001b[0m\u001b[1;33m\u001b[0m\u001b[0m\n\u001b[1;32m---> 83\u001b[1;33m         \u001b[0mloss\u001b[0m\u001b[1;33m,\u001b[0m \u001b[0mw\u001b[0m \u001b[1;33m=\u001b[0m \u001b[0mlearning_by_gradient_descent\u001b[0m\u001b[1;33m(\u001b[0m\u001b[0my\u001b[0m\u001b[1;33m,\u001b[0m \u001b[0mtx\u001b[0m\u001b[1;33m,\u001b[0m \u001b[0mw\u001b[0m\u001b[1;33m,\u001b[0m \u001b[0mgamma\u001b[0m\u001b[1;33m)\u001b[0m\u001b[1;33m\u001b[0m\u001b[1;33m\u001b[0m\u001b[0m\n\u001b[0m\u001b[0;32m     84\u001b[0m         \u001b[1;31m# log info\u001b[0m\u001b[1;33m\u001b[0m\u001b[1;33m\u001b[0m\u001b[1;33m\u001b[0m\u001b[0m\n\u001b[0;32m     85\u001b[0m         \u001b[0mprint\u001b[0m\u001b[1;33m(\u001b[0m\u001b[0mloss\u001b[0m\u001b[1;33m)\u001b[0m\u001b[1;33m\u001b[0m\u001b[1;33m\u001b[0m\u001b[0m\n",
      "\u001b[1;32m~\\Documents\\GitHub\\ml-project-1-ml_pls2021\\project1\\scripts\\logistic.py\u001b[0m in \u001b[0;36mlearning_by_gradient_descent\u001b[1;34m(y, tx, w, gamma)\u001b[0m\n\u001b[0;32m     52\u001b[0m     \u001b[1;31m# INSERT YOUR CODE HERE\u001b[0m\u001b[1;33m\u001b[0m\u001b[1;33m\u001b[0m\u001b[1;33m\u001b[0m\u001b[0m\n\u001b[0;32m     53\u001b[0m     \u001b[1;31m# compute the gradient: TODO\u001b[0m\u001b[1;33m\u001b[0m\u001b[1;33m\u001b[0m\u001b[1;33m\u001b[0m\u001b[0m\n\u001b[1;32m---> 54\u001b[1;33m     \u001b[0mg\u001b[0m\u001b[1;33m=\u001b[0m\u001b[0mcalculate_gradient\u001b[0m\u001b[1;33m(\u001b[0m\u001b[0my\u001b[0m\u001b[1;33m,\u001b[0m\u001b[0mtx\u001b[0m\u001b[1;33m,\u001b[0m\u001b[0mw\u001b[0m\u001b[1;33m)\u001b[0m\u001b[1;33m\u001b[0m\u001b[1;33m\u001b[0m\u001b[0m\n\u001b[0m\u001b[0;32m     55\u001b[0m     \u001b[0mprint\u001b[0m\u001b[1;33m(\u001b[0m\u001b[0mnp\u001b[0m\u001b[1;33m.\u001b[0m\u001b[0mlinalg\u001b[0m\u001b[1;33m.\u001b[0m\u001b[0mnorm\u001b[0m\u001b[1;33m(\u001b[0m\u001b[0mg\u001b[0m\u001b[1;33m)\u001b[0m\u001b[1;33m)\u001b[0m\u001b[1;33m\u001b[0m\u001b[1;33m\u001b[0m\u001b[0m\n\u001b[0;32m     56\u001b[0m     \u001b[1;31m# ***************************************************\u001b[0m\u001b[1;33m\u001b[0m\u001b[1;33m\u001b[0m\u001b[1;33m\u001b[0m\u001b[0m\n",
      "\u001b[1;32m~\\Documents\\GitHub\\ml-project-1-ml_pls2021\\project1\\scripts\\logistic.py\u001b[0m in \u001b[0;36mcalculate_gradient\u001b[1;34m(y, tx, w)\u001b[0m\n\u001b[0;32m     36\u001b[0m     \u001b[0md\u001b[0m\u001b[1;33m=\u001b[0m\u001b[0my\u001b[0m\u001b[1;33m-\u001b[0m\u001b[0msigmoid\u001b[0m\u001b[1;33m(\u001b[0m\u001b[0mtx\u001b[0m\u001b[1;33m@\u001b[0m\u001b[0mw\u001b[0m\u001b[1;33m)\u001b[0m\u001b[1;33m\u001b[0m\u001b[1;33m\u001b[0m\u001b[0m\n\u001b[0;32m     37\u001b[0m     \u001b[1;31m#print(d)\u001b[0m\u001b[1;33m\u001b[0m\u001b[1;33m\u001b[0m\u001b[1;33m\u001b[0m\u001b[0m\n\u001b[1;32m---> 38\u001b[1;33m     \u001b[1;32mreturn\u001b[0m \u001b[1;33m-\u001b[0m\u001b[0mtx\u001b[0m\u001b[1;33m.\u001b[0m\u001b[0mT\u001b[0m\u001b[1;33m@\u001b[0m\u001b[0md\u001b[0m\u001b[1;31m#-np.sum(l.T,axis=1)\u001b[0m\u001b[1;33m\u001b[0m\u001b[1;33m\u001b[0m\u001b[0m\n\u001b[0m\u001b[0;32m     39\u001b[0m \u001b[1;33m\u001b[0m\u001b[0m\n\u001b[0;32m     40\u001b[0m \u001b[1;33m\u001b[0m\u001b[0m\n",
      "\u001b[1;31mKeyboardInterrupt\u001b[0m: "
     ]
    }
   ],
   "source": [
    "from logistic import *\n",
    "gamma=1.5*10**-7\n",
    "max_iter=500\n",
    "threshold = 1e-8\n",
    "initial_w=-np.zeros((496,))\n",
    "w,loss=logistic_regression_gradient_descent(y, tX,gamma,max_iter,threshold,initial_w)"
   ]
  },
  {
   "cell_type": "code",
   "execution_count": 23,
   "id": "52fd72b1",
   "metadata": {},
   "outputs": [],
   "source": [
    "\n",
    "weights=w"
   ]
  },
  {
   "cell_type": "code",
   "execution_count": 27,
   "id": "f13971a3",
   "metadata": {},
   "outputs": [
    {
     "data": {
      "text/plain": [
       "1.3223101950537226"
      ]
     },
     "execution_count": 27,
     "metadata": {},
     "output_type": "execute_result"
    }
   ],
   "source": [
    "np.linalg.norm(w)"
   ]
  },
  {
   "cell_type": "code",
   "execution_count": null,
   "id": "62177e74",
   "metadata": {},
   "outputs": [],
   "source": [
    "w"
   ]
  },
  {
   "cell_type": "code",
   "execution_count": null,
   "id": "c2623d0c",
   "metadata": {},
   "outputs": [],
   "source": [
    "1/(1+np.log(np.exp(10**6)))"
   ]
  },
  {
   "cell_type": "code",
   "execution_count": 25,
   "id": "cddd5c5c",
   "metadata": {},
   "outputs": [],
   "source": [
    "OUTPUT_PATH = 'Logistic regression' # TODO: fill in desired name of output file for submission\n",
    "\n",
    "y_pred = predict_labels(weights, tX)\n",
    "create_csv_submission(ids, y_pred, OUTPUT_PATH)"
   ]
  },
  {
   "cell_type": "code",
   "execution_count": 26,
   "id": "acbdc054",
   "metadata": {},
   "outputs": [
    {
     "data": {
      "text/plain": [
       "50253"
      ]
     },
     "execution_count": 26,
     "metadata": {},
     "output_type": "execute_result"
    }
   ],
   "source": [
    "np.count_nonzero(y_pred-y)"
   ]
  }
 ],
 "metadata": {
  "kernelspec": {
   "display_name": "Python 3",
   "language": "python",
   "name": "python3"
  },
  "language_info": {
   "codemirror_mode": {
    "name": "ipython",
    "version": 3
   },
   "file_extension": ".py",
   "mimetype": "text/x-python",
   "name": "python",
   "nbconvert_exporter": "python",
   "pygments_lexer": "ipython3",
   "version": "3.8.8"
  }
 },
 "nbformat": 4,
 "nbformat_minor": 5
}
