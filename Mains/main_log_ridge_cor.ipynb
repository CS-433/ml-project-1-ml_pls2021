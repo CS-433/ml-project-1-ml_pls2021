{
 "cells": [
  {
   "cell_type": "code",
   "execution_count": null,
   "id": "afd8dd53",
   "metadata": {},
   "outputs": [],
   "source": [
    "# Useful starting lines\n",
    "%matplotlib inline\n",
    "import numpy as np\n",
    "import matplotlib.pyplot as plt\n",
    "from dataAnalysis import*\n",
    "from implementations import *\n",
    "\n",
    "\n",
    "%load_ext autoreload\n",
    "%autoreload 2"
   ]
  },
  {
   "cell_type": "code",
   "execution_count": null,
   "id": "7f372165",
   "metadata": {},
   "outputs": [],
   "source": [
    "from proj1_helpers import *\n",
    "DATA_TRAIN_PATH = 'train.csv' # TODO: download train data and supply path here \n",
    "y, tX, ids = load_csv_data(DATA_TRAIN_PATH)"
   ]
  },
  {
   "cell_type": "code",
   "execution_count": null,
   "id": "35fafaf8",
   "metadata": {},
   "outputs": [],
   "source": [
    "tX_0, ind0,indices0,mean0,std0 = dataCleaning(tX,[0],\"median\",True,0.5) \n",
    "tX_1, ind1,indices1,mean1,std1 = dataCleaning(tX,[1],\"median\",True,0.5)\n",
    "tX_2, ind2,indices2,mean2,std2 = dataCleaning(tX, [2], \"median\", True, 0.5)\n",
    "tX_3, ind3,indices3,mean3,std3 = dataCleaning(tX, [3], \"median\", True,0.5)\n"
   ]
  },
  {
   "cell_type": "code",
   "execution_count": null,
   "id": "2c981a19",
   "metadata": {},
   "outputs": [],
   "source": [
    "y0=y[ind0]#putting the corresponding indices on the output variable\n",
    "y1=y[ind1]\n",
    "y2=y[ind2]\n",
    "y3=y[ind3]"
   ]
  },
  {
   "cell_type": "markdown",
   "id": "fd0e765d",
   "metadata": {},
   "source": [
    "# Reg Logistic"
   ]
  },
  {
   "cell_type": "code",
   "execution_count": null,
   "id": "003b8ab6",
   "metadata": {},
   "outputs": [],
   "source": [
    "gamma=8*10**-7\n",
    "max_iter=10000\n",
    "threshold = 1e-8\n",
    "initial_w=np.zeros((tX_0.shape[1],))\n",
    "#alpha_b=1\n",
    "lambda_=10**-3\n",
    "w0,loss=logistic_regression_gradient_descent_ridge(y0, tX_0,gamma,max_iter,threshold,initial_w,lambda_)\n",
    "#w,loss=logistic_regression_gradient_descent_line_search(y0,tX_0,gamma,max_iter,threshold,initial_w,alpha_b)"
   ]
  },
  {
   "cell_type": "code",
   "execution_count": null,
   "id": "d63608f0",
   "metadata": {},
   "outputs": [],
   "source": [
    "gamma=8*10**-7\n",
    "max_iter=15000\n",
    "threshold = 1e-10\n",
    "initial_w=-np.zeros((tX_1.shape[1],))\n",
    "lambda_=10**-3\n",
    "w1,loss1=logistic_regression_gradient_descent_ridge(y1, tX_1,gamma,max_iter,threshold,initial_w,lambda_)"
   ]
  },
  {
   "cell_type": "code",
   "execution_count": null,
   "id": "dda6dd3e",
   "metadata": {},
   "outputs": [],
   "source": [
    "gamma=2*10**-6\n",
    "max_iter=15000\n",
    "threshold = 1e-10\n",
    "initial_w=-np.zeros((tX_2.shape[1],))\n",
    "lambda_=10**-3\n",
    "w2,loss2=logistic_regression_gradient_descent_ridge(y2, tX_2,gamma,max_iter,threshold,initial_w,lambda_)"
   ]
  },
  {
   "cell_type": "code",
   "execution_count": null,
   "id": "c5594803",
   "metadata": {},
   "outputs": [],
   "source": [
    "gamma=5.5*10**-6\n",
    "max_iter=15000\n",
    "threshold = 1e-10\n",
    "initial_w=-np.zeros((tX_3.shape[1],))\n",
    "lambda_=10**-3\n",
    "w3,loss3=logistic_regression_gradient_descent_ridge(y3, tX_3,gamma,max_iter,threshold,initial_w,lambda_)"
   ]
  },
  {
   "cell_type": "markdown",
   "id": "2f037546",
   "metadata": {},
   "source": [
    "# Prediction on the train"
   ]
  },
  {
   "cell_type": "code",
   "execution_count": null,
   "id": "d0fbbec7",
   "metadata": {},
   "outputs": [],
   "source": [
    "y_pred0 = predict_labels(w0,tX_0,\"logistic\")\n",
    "y_pred1 = predict_labels(w1,tX_1,\"logistic\")\n",
    "y_pred2 = predict_labels(w2,tX_2,\"logistic\")\n",
    "y_pred3 = predict_labels(w3,tX_3,\"logistic\")"
   ]
  },
  {
   "cell_type": "code",
   "execution_count": null,
   "id": "ef702b26",
   "metadata": {},
   "outputs": [],
   "source": [
    "error0 = np.count_nonzero(y_pred0-y0)\n",
    "error1= np.count_nonzero(y_pred1-y1)\n",
    "error2 = np.count_nonzero(y_pred2-y2)\n",
    "error3 = np.count_nonzero(y_pred3-y3)\n",
    "print((error0+error1+error2+error3)/250000) #percentage of the mistakes on the train set"
   ]
  },
  {
   "cell_type": "markdown",
   "id": "383e91f3",
   "metadata": {},
   "source": [
    "# Prediction on the test"
   ]
  },
  {
   "cell_type": "code",
   "execution_count": null,
   "id": "a653990c",
   "metadata": {},
   "outputs": [],
   "source": [
    "DATA_TEST_PATH = 'test.csv' # TODO: download train data and supply path here \n",
    "_, tX_test, ids_test = load_csv_data(DATA_TEST_PATH)"
   ]
  },
  {
   "cell_type": "code",
   "execution_count": null,
   "id": "70d00463",
   "metadata": {},
   "outputs": [],
   "source": [
    "tX_te_0, ind0_te = dataCleaningTest(tX_test,[0],\"median\",mean0,std0,True,indices0) \n",
    "tX_te_1, ind1_te = dataCleaningTest(tX_test,[1],\"median\",mean1,std1,True,indices1)\n",
    "tX_te_2, ind2_te = dataCleaningTest(tX_test, [2], \"median\",mean2,std2, True, indices2)\n",
    "tX_te_3, ind3_te = dataCleaningTest(tX_test, [3], \"median\",mean3,std3, True, indices3)"
   ]
  },
  {
   "cell_type": "code",
   "execution_count": null,
   "id": "22df52f2",
   "metadata": {},
   "outputs": [],
   "source": [
    "OUTPUT_PATH = 'Logistic ridge cor' # TODO: fill in desired name of output file for submission\n",
    "y_pred0 = predict_labels(w0, tX_te_0,\"logistic\")\n",
    "y_pred1 = predict_labels(w1, tX_te_1,\"logistic\")\n",
    "y_pred2 = predict_labels(w2, tX_te_2,\"logistic\")\n",
    "y_pred3 = predict_labels(w3, tX_te_3,\"logistic\")\n",
    "y_pred=np.zeros(len(ids_test))\n",
    "y_pred[ind0_te]=y_pred0\n",
    "y_pred[ind1_te]=y_pred1\n",
    "y_pred[ind2_te]=y_pred2\n",
    "y_pred[ind3_te]=y_pred3\n",
    "y_pred[y_pred==0]=-1\n",
    "create_csv_submission(ids_test, y_pred, OUTPUT_PATH)"
   ]
  }
 ],
 "metadata": {
  "interpreter": {
   "hash": "daef4bc51459df5d978f3ca109f78c6abe9408920ca09fbdaabe596241e59392"
  },
  "kernelspec": {
   "display_name": "Python 3",
   "language": "python",
   "name": "python3"
  },
  "language_info": {
   "codemirror_mode": {
    "name": "ipython",
    "version": 3
   },
   "file_extension": ".py",
   "mimetype": "text/x-python",
   "name": "python",
   "nbconvert_exporter": "python",
   "pygments_lexer": "ipython3",
   "version": "3.8.8"
  }
 },
 "nbformat": 4,
 "nbformat_minor": 5
}
