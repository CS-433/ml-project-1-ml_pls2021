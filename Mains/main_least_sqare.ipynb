{
 "cells": [
  {
   "cell_type": "code",
   "execution_count": 1,
   "id": "afd8dd53",
   "metadata": {},
   "outputs": [],
   "source": [
    "# Useful starting lines\n",
    "%matplotlib inline\n",
    "import numpy as np\n",
    "import matplotlib.pyplot as plt\n",
    "from dataAnalysis import*\n",
    "from implementations import*\n",
    "%load_ext autoreload\n",
    "%autoreload 2"
   ]
  },
  {
   "cell_type": "code",
   "execution_count": 2,
   "id": "7f372165",
   "metadata": {},
   "outputs": [],
   "source": [
    "from proj1_helpers import *\n",
    "DATA_TRAIN_PATH = 'train.csv' # TODO: download train data and supply path here \n",
    "y, tX, ids = load_csv_data(DATA_TRAIN_PATH)"
   ]
  },
  {
   "cell_type": "code",
   "execution_count": 3,
   "id": "35fafaf8",
   "metadata": {},
   "outputs": [],
   "source": [
    "tX_0, ind0,indices0,mean0,std0 = dataCleaning(tX,[0],\"median\",False,0) \n",
    "tX_1, ind1,indices1,mean1,std1 = dataCleaning(tX,[1],\"median\",False,0)\n",
    "tX_2, ind2,indices2,mean2,std2 = dataCleaning(tX, [2], \"median\",False, 0)\n",
    "tX_3, ind3,indices3,mean3,std3 = dataCleaning(tX, [3], \"median\", False,0)\n"
   ]
  },
  {
   "cell_type": "code",
   "execution_count": 4,
   "id": "2c981a19",
   "metadata": {},
   "outputs": [],
   "source": [
    "y0=y[ind0]\n",
    "y1=y[ind1]\n",
    "y2=y[ind2]\n",
    "y3=y[ind3]"
   ]
  },
  {
   "cell_type": "code",
   "execution_count": 5,
   "id": "9df5c15d",
   "metadata": {},
   "outputs": [],
   "source": [
    "\n",
    "initial_w=np.zeros((tX_0.shape[1],))\n",
    "max_iters=1000\n",
    "gamma=10**-2\n",
    "w0,loss0=ridge_regression(y0,tX_0, 0)\n",
    "w1,loss1=ridge_regression(y1,tX_1, 0)\n",
    "w2,loss2=ridge_regression(y2,tX_2, 0)\n",
    "w3,loss3=ridge_regression(y3,tX_3, 0)\n"
   ]
  },
  {
   "cell_type": "code",
   "execution_count": 6,
   "id": "6768e507",
   "metadata": {},
   "outputs": [
    {
     "name": "stdout",
     "output_type": "stream",
     "text": [
      "0.240944\n"
     ]
    }
   ],
   "source": [
    "y_pred0 = predict_labels(w0,tX_0,\"other\")\n",
    "y_pred1 = predict_labels(w1,tX_1,\"other\")\n",
    "y_pred2 = predict_labels(w2,tX_2,\"other\")\n",
    "y_pred3 = predict_labels(w3,tX_3,\"other\")\n",
    "error0 = np.count_nonzero(y_pred0-y0)\n",
    "error1= np.count_nonzero(y_pred1-y1)\n",
    "error2 = np.count_nonzero(y_pred2-y2)\n",
    "error3 = np.count_nonzero(y_pred3-y3)\n",
    "print((error0+error1+error2+error3)/250000)"
   ]
  },
  {
   "cell_type": "code",
   "execution_count": 7,
   "id": "392a5751",
   "metadata": {},
   "outputs": [
    {
     "data": {
      "text/plain": [
       "(77544, 23)"
      ]
     },
     "execution_count": 7,
     "metadata": {},
     "output_type": "execute_result"
    }
   ],
   "source": [
    "np.shape(tX_1)"
   ]
  },
  {
   "cell_type": "code",
   "execution_count": 8,
   "id": "a653990c",
   "metadata": {},
   "outputs": [],
   "source": [
    "DATA_TEST_PATH = 'test.csv' # TODO: download train data and supply path here \n",
    "_, tX_test, ids_test = load_csv_data(DATA_TEST_PATH)"
   ]
  },
  {
   "cell_type": "code",
   "execution_count": 9,
   "id": "70d00463",
   "metadata": {},
   "outputs": [],
   "source": [
    "tX_te_0, ind0_te = dataCleaningTest(tX_test,[0],\"median\",mean0,std0,False,indices0) \n",
    "tX_te_1, ind1_te = dataCleaningTest(tX_test,[1],\"median\",mean1,std1,False,indices1)\n",
    "tX_te_2, ind2_te = dataCleaningTest(tX_test, [2], \"median\",mean2,std2, False, indices2)\n",
    "tX_te_3, ind3_te = dataCleaningTest(tX_test, [3], \"median\",mean3,std3, False, indices3)"
   ]
  },
  {
   "cell_type": "code",
   "execution_count": 10,
   "id": "aeb7ed12",
   "metadata": {},
   "outputs": [],
   "source": [
    "OUTPUT_PATH = 'Least square' # TODO: fill in desired name of output file for submission\n",
    "y_pred0 = predict_labels(w0, tX_te_0,\"other\")\n",
    "y_pred1 = predict_labels(w1, tX_te_1,\"other\")\n",
    "y_pred2 = predict_labels(w2, tX_te_2,\"other\")\n",
    "y_pred3 = predict_labels(w3, tX_te_3,\"other\")\n",
    "y_pred=np.zeros(len(ids_test))\n",
    "y_pred[ind0_te]=y_pred0\n",
    "y_pred[ind1_te]=y_pred1\n",
    "y_pred[ind2_te]=y_pred2\n",
    "y_pred[ind3_te]=y_pred3\n",
    "y_pred[y_pred==0]=-1\n",
    "create_csv_submission(ids_test, y_pred, OUTPUT_PATH)"
   ]
  }
 ],
 "metadata": {
  "interpreter": {
   "hash": "daef4bc51459df5d978f3ca109f78c6abe9408920ca09fbdaabe596241e59392"
  },
  "kernelspec": {
   "display_name": "Python 3",
   "language": "python",
   "name": "python3"
  },
  "language_info": {
   "codemirror_mode": {
    "name": "ipython",
    "version": 3
   },
   "file_extension": ".py",
   "mimetype": "text/x-python",
   "name": "python",
   "nbconvert_exporter": "python",
   "pygments_lexer": "ipython3",
   "version": "3.8.8"
  }
 },
 "nbformat": 4,
 "nbformat_minor": 5
}
